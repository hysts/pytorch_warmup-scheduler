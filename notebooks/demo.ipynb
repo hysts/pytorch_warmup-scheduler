{
  "nbformat": 4,
  "nbformat_minor": 0,
  "metadata": {
    "kernelspec": {
      "display_name": "Python 3",
      "language": "python",
      "name": "python3"
    },
    "language_info": {
      "codemirror_mode": {
        "name": "ipython",
        "version": 3
      },
      "file_extension": ".py",
      "mimetype": "text/x-python",
      "name": "python",
      "nbconvert_exporter": "python",
      "pygments_lexer": "ipython3",
      "version": "3.9.2"
    },
    "toc": {
      "base_numbering": 1,
      "nav_menu": {},
      "number_sections": true,
      "sideBar": true,
      "skip_h1_title": false,
      "title_cell": "Table of Contents",
      "title_sidebar": "Contents",
      "toc_cell": false,
      "toc_position": {},
      "toc_section_display": true,
      "toc_window_display": false
    },
    "colab": {
      "name": "demo.ipynb",
      "provenance": []
    }
  },
  "cells": [
    {
      "cell_type": "code",
      "metadata": {
        "id": "7OtMezCQB8Aj"
      },
      "source": [
        "!pip install -q pytorch-warmup-scheduler"
      ],
      "execution_count": 1,
      "outputs": []
    },
    {
      "cell_type": "code",
      "metadata": {
        "ExecuteTime": {
          "end_time": "2021-06-26T20:23:30.526738Z",
          "start_time": "2021-06-26T20:23:30.514086Z"
        },
        "id": "359e9KH1B5rl"
      },
      "source": [
        "import matplotlib.pyplot as plt\n",
        "import torch\n",
        "import torch.nn as nn"
      ],
      "execution_count": 2,
      "outputs": []
    },
    {
      "cell_type": "code",
      "metadata": {
        "ExecuteTime": {
          "end_time": "2021-06-26T20:23:30.542644Z",
          "start_time": "2021-06-26T20:23:30.528057Z"
        },
        "id": "CTHF7ifnB5rn"
      },
      "source": [
        "from pytorch_warmup_scheduler import WarmupScheduler"
      ],
      "execution_count": 3,
      "outputs": []
    },
    {
      "cell_type": "code",
      "metadata": {
        "ExecuteTime": {
          "end_time": "2021-06-26T20:23:30.557635Z",
          "start_time": "2021-06-26T20:23:30.543934Z"
        },
        "id": "Uzhxbv31B5ro"
      },
      "source": [
        "model = nn.Conv2d(3, 10, 3)"
      ],
      "execution_count": 4,
      "outputs": []
    },
    {
      "cell_type": "code",
      "metadata": {
        "ExecuteTime": {
          "end_time": "2021-06-26T20:23:30.572063Z",
          "start_time": "2021-06-26T20:23:30.558558Z"
        },
        "id": "pm6OZ0sbB5ro"
      },
      "source": [
        "optimizer = torch.optim.SGD(model.parameters(), lr=1)\n",
        "scheduler1 = torch.optim.lr_scheduler.MultiStepLR(optimizer,\n",
        "                                                  milestones=[100, 150],\n",
        "                                                  gamma=0.1)\n",
        "scheduler2 = WarmupScheduler(optimizer, warmup_epoch=5)"
      ],
      "execution_count": 5,
      "outputs": []
    },
    {
      "cell_type": "code",
      "metadata": {
        "ExecuteTime": {
          "end_time": "2021-06-26T20:23:30.686878Z",
          "start_time": "2021-06-26T20:23:30.573233Z"
        },
        "id": "UrsmE02vB5rp",
        "outputId": "af1431e8-6a68-4fed-f0d5-c0fc5aaaf09a",
        "colab": {
          "base_uri": "https://localhost:8080/",
          "height": 265
        }
      },
      "source": [
        "lr = []\n",
        "lr.append(optimizer.param_groups[0]['lr'])\n",
        "for epoch in range(200):\n",
        "    optimizer.zero_grad()\n",
        "    optimizer.step()\n",
        "    scheduler1.step()\n",
        "    scheduler2.step()\n",
        "    lr.append(scheduler2.get_last_lr()[0])\n",
        "\n",
        "plt.plot(lr)\n",
        "plt.grid()\n",
        "plt.show()"
      ],
      "execution_count": 6,
      "outputs": [
        {
          "output_type": "display_data",
          "data": {
            "image/png": "[encoded data removed]",
            "text/plain": [
              "<Figure size 432x288 with 1 Axes>"
            ]
          },
          "metadata": {
            "tags": [],
            "needs_background": "light"
          }
        }
      ]
    },
    {
      "cell_type": "code",
      "metadata": {
        "ExecuteTime": {
          "end_time": "2021-06-26T20:23:30.701966Z",
          "start_time": "2021-06-26T20:23:30.687774Z"
        },
        "id": "fcHrfLuBB5rp"
      },
      "source": [
        "optimizer = torch.optim.SGD(model.parameters(), lr=1)\n",
        "scheduler1 = torch.optim.lr_scheduler.CosineAnnealingLR(optimizer,\n",
        "                                                        100,\n",
        "                                                        eta_min=0.001)\n",
        "scheduler2 = WarmupScheduler(optimizer, warmup_epoch=5)"
      ],
      "execution_count": 7,
      "outputs": []
    },
    {
      "cell_type": "code",
      "metadata": {
        "ExecuteTime": {
          "end_time": "2021-06-26T20:23:30.793938Z",
          "start_time": "2021-06-26T20:23:30.703515Z"
        },
        "id": "uy8_1I9rB5rp",
        "outputId": "4d938cd6-3ade-4b82-a64b-067465e55c4c",
        "colab": {
          "base_uri": "https://localhost:8080/",
          "height": 265
        }
      },
      "source": [
        "lr = []\n",
        "lr.append(optimizer.param_groups[0]['lr'])\n",
        "for epoch in range(100):\n",
        "    optimizer.zero_grad()\n",
        "    optimizer.step()\n",
        "    scheduler1.step()\n",
        "    scheduler2.step()\n",
        "    lr.append(scheduler2.get_last_lr()[0])\n",
        "\n",
        "plt.plot(lr)\n",
        "plt.grid()\n",
        "plt.show()"
      ],
      "execution_count": 8,
      "outputs": [
        {
          "output_type": "display_data",
          "data": {
            "image/png": "[encoded data removed]",
            "text/plain": [
              "<Figure size 432x288 with 1 Axes>"
            ]
          },
          "metadata": {
            "tags": [],
            "needs_background": "light"
          }
        }
      ]
    },
    {
      "cell_type": "code",
      "metadata": {
        "ExecuteTime": {
          "end_time": "2021-06-26T20:24:06.479691Z",
          "start_time": "2021-06-26T20:24:06.465120Z"
        },
        "id": "YZwZobXtB5rq"
      },
      "source": [
        "optimizer = torch.optim.SGD(model.parameters(), lr=1)\n",
        "scheduler1 = torch.optim.lr_scheduler.CosineAnnealingLR(optimizer,\n",
        "                                                        100,\n",
        "                                                        eta_min=0.001)\n",
        "scheduler2 = WarmupScheduler(optimizer, warmup_epoch=5, initial_lr_factor=0.1)"
      ],
      "execution_count": 9,
      "outputs": []
    },
    {
      "cell_type": "code",
      "metadata": {
        "ExecuteTime": {
          "end_time": "2021-06-26T20:24:06.792859Z",
          "start_time": "2021-06-26T20:24:06.703446Z"
        },
        "id": "FPcHDZRUB5rq",
        "outputId": "0c2aa125-36ca-4557-c138-48741f4c77a2",
        "colab": {
          "base_uri": "https://localhost:8080/",
          "height": 265
        }
      },
      "source": [
        "lr = []\n",
        "lr.append(optimizer.param_groups[0]['lr'])\n",
        "for epoch in range(100):\n",
        "    optimizer.zero_grad()\n",
        "    optimizer.step()\n",
        "    scheduler1.step()\n",
        "    scheduler2.step()\n",
        "    lr.append(scheduler2.get_last_lr()[0])\n",
        "\n",
        "plt.plot(lr)\n",
        "plt.grid()\n",
        "plt.show()"
      ],
      "execution_count": 10,
      "outputs": [
        {
          "output_type": "display_data",
          "data": {
            "image/png": "[encoded data removed]",
            "text/plain": [
              "<Figure size 432x288 with 1 Axes>"
            ]
          },
          "metadata": {
            "tags": [],
            "needs_background": "light"
          }
        }
      ]
    },
    {
      "cell_type": "code",
      "metadata": {
        "id": "Ir-CM3-rB5rr"
      },
      "source": [
        ""
      ],
      "execution_count": 10,
      "outputs": []
    }
  ]
}