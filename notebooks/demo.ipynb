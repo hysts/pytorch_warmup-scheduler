{
 "cells": [
  {
   "cell_type": "code",
   "execution_count": null,
   "metadata": {
    "ExecuteTime": {
     "end_time": "2021-06-26T20:23:30.526738Z",
     "start_time": "2021-06-26T20:23:30.514086Z"
    }
   },
   "outputs": [],
   "source": [
    "import torch\n",
    "import torch.nn as nn"
   ]
  },
  {
   "cell_type": "code",
   "execution_count": null,
   "metadata": {
    "ExecuteTime": {
     "end_time": "2021-06-26T20:23:30.542644Z",
     "start_time": "2021-06-26T20:23:30.528057Z"
    }
   },
   "outputs": [],
   "source": [
    "from pytorch_warmup_scheduler import WarmupScheduler"
   ]
  },
  {
   "cell_type": "code",
   "execution_count": null,
   "metadata": {
    "ExecuteTime": {
     "end_time": "2021-06-26T20:23:30.557635Z",
     "start_time": "2021-06-26T20:23:30.543934Z"
    }
   },
   "outputs": [],
   "source": [
    "model = nn.Conv2d(3, 10, 3)"
   ]
  },
  {
   "cell_type": "code",
   "execution_count": null,
   "metadata": {
    "ExecuteTime": {
     "end_time": "2021-06-26T20:23:30.572063Z",
     "start_time": "2021-06-26T20:23:30.558558Z"
    }
   },
   "outputs": [],
   "source": [
    "optimizer = torch.optim.SGD(model.parameters(), lr=1)\n",
    "scheduler1 = torch.optim.lr_scheduler.MultiStepLR(optimizer,\n",
    "                                                  milestones=[100, 150],\n",
    "                                                  gamma=0.1)\n",
    "scheduler2 = WarmupScheduler(optimizer, warmup_epoch=5)"
   ]
  },
  {
   "cell_type": "code",
   "execution_count": null,
   "metadata": {
    "ExecuteTime": {
     "end_time": "2021-06-26T20:23:30.686878Z",
     "start_time": "2021-06-26T20:23:30.573233Z"
    }
   },
   "outputs": [],
   "source": [
    "lr = []\n",
    "lr.append(optimizer.param_groups[0]['lr'])\n",
    "for epoch in range(200):\n",
    "    optimizer.zero_grad()\n",
    "    optimizer.step()\n",
    "    scheduler1.step()\n",
    "    scheduler2.step()\n",
    "    lr.append(scheduler2.get_last_lr()[0])\n",
    "\n",
    "plt.plot(lr)\n",
    "plt.grid()\n",
    "plt.show()"
   ]
  },
  {
   "cell_type": "code",
   "execution_count": null,
   "metadata": {
    "ExecuteTime": {
     "end_time": "2021-06-26T20:23:30.701966Z",
     "start_time": "2021-06-26T20:23:30.687774Z"
    }
   },
   "outputs": [],
   "source": [
    "optimizer = torch.optim.SGD(model.parameters(), lr=1)\n",
    "scheduler1 = torch.optim.lr_scheduler.CosineAnnealingLR(optimizer,\n",
    "                                                        100,\n",
    "                                                        eta_min=0.001)\n",
    "scheduler2 = WarmupScheduler(optimizer, warmup_epoch=5)"
   ]
  },
  {
   "cell_type": "code",
   "execution_count": null,
   "metadata": {
    "ExecuteTime": {
     "end_time": "2021-06-26T20:23:30.793938Z",
     "start_time": "2021-06-26T20:23:30.703515Z"
    }
   },
   "outputs": [],
   "source": [
    "lr = []\n",
    "lr.append(optimizer.param_groups[0]['lr'])\n",
    "for epoch in range(100):\n",
    "    optimizer.zero_grad()\n",
    "    optimizer.step()\n",
    "    scheduler1.step()\n",
    "    scheduler2.step()\n",
    "    lr.append(scheduler2.get_last_lr()[0])\n",
    "\n",
    "plt.plot(lr)\n",
    "plt.grid()\n",
    "plt.show()"
   ]
  },
  {
   "cell_type": "code",
   "execution_count": null,
   "metadata": {
    "ExecuteTime": {
     "end_time": "2021-06-26T20:24:06.479691Z",
     "start_time": "2021-06-26T20:24:06.465120Z"
    }
   },
   "outputs": [],
   "source": [
    "optimizer = torch.optim.SGD(model.parameters(), lr=1)\n",
    "scheduler1 = torch.optim.lr_scheduler.CosineAnnealingLR(optimizer,\n",
    "                                                        100,\n",
    "                                                        eta_min=0.001)\n",
    "scheduler2 = WarmupScheduler(optimizer, warmup_epoch=5, initial_lr_factor=0.1)"
   ]
  },
  {
   "cell_type": "code",
   "execution_count": null,
   "metadata": {
    "ExecuteTime": {
     "end_time": "2021-06-26T20:24:06.792859Z",
     "start_time": "2021-06-26T20:24:06.703446Z"
    }
   },
   "outputs": [],
   "source": [
    "lr = []\n",
    "lr.append(optimizer.param_groups[0]['lr'])\n",
    "for epoch in range(100):\n",
    "    optimizer.zero_grad()\n",
    "    optimizer.step()\n",
    "    scheduler1.step()\n",
    "    scheduler2.step()\n",
    "    lr.append(scheduler2.get_last_lr()[0])\n",
    "\n",
    "plt.plot(lr)\n",
    "plt.grid()\n",
    "plt.show()"
   ]
  },
  {
   "cell_type": "code",
   "execution_count": null,
   "metadata": {},
   "outputs": [],
   "source": []
  }
 ],
 "metadata": {
  "kernelspec": {
   "display_name": "Python 3",
   "language": "python",
   "name": "python3"
  },
  "language_info": {
   "codemirror_mode": {
    "name": "ipython",
    "version": 3
   },
   "file_extension": ".py",
   "mimetype": "text/x-python",
   "name": "python",
   "nbconvert_exporter": "python",
   "pygments_lexer": "ipython3",
   "version": "3.9.2"
  },
  "toc": {
   "base_numbering": 1,
   "nav_menu": {},
   "number_sections": true,
   "sideBar": true,
   "skip_h1_title": false,
   "title_cell": "Table of Contents",
   "title_sidebar": "Contents",
   "toc_cell": false,
   "toc_position": {},
   "toc_section_display": true,
   "toc_window_display": false
  }
 },
 "nbformat": 4,
 "nbformat_minor": 1
}
